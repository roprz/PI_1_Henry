{
 "cells": [
  {
   "cell_type": "code",
   "execution_count": 9,
   "metadata": {},
   "outputs": [],
   "source": [
    "from surprise.dump import load"
   ]
  },
  {
   "cell_type": "code",
   "execution_count": 10,
   "metadata": {},
   "outputs": [],
   "source": [
    "model = load(\"Datasets/modelo_25.pkl\")[1]"
   ]
  },
  {
   "cell_type": "code",
   "execution_count": 11,
   "metadata": {},
   "outputs": [
    {
     "name": "stdout",
     "output_type": "stream",
     "text": [
      "2.6808010212723357\n"
     ]
    }
   ],
   "source": [
    "userId = 266225\n",
    "movieId = 'ns643'\n",
    "rating2 = model.predict(userId, movieId).est\n",
    "print(rating2)"
   ]
  },
  {
   "cell_type": "code",
   "execution_count": 16,
   "metadata": {},
   "outputs": [],
   "source": [
    "def get_estimated_recommendation(userId: int, movieId: str):\n",
    "\n",
    "    rating = model.predict(userId, movieId).est\n",
    "\n",
    "    rating_rounded = round(rating, 1)\n",
    "    \n",
    "    return {\"En la escala de del 1 al 5. Calculamos que al usuario le podría gustar:\": rating_rounded}"
   ]
  },
  {
   "cell_type": "code",
   "execution_count": 17,
   "metadata": {},
   "outputs": [
    {
     "data": {
      "text/plain": [
       "{'En la escala de del 1 al 5. Calculamos que al usuario le podría gustar:': 2.7}"
      ]
     },
     "execution_count": 17,
     "metadata": {},
     "output_type": "execute_result"
    }
   ],
   "source": [
    "get_estimated_recommendation(266225,'ns643')"
   ]
  },
  {
   "cell_type": "code",
   "execution_count": null,
   "metadata": {},
   "outputs": [],
   "source": [
    "from surprise.dump import load\n",
    "@app.get(\"/get_estimated_recommendation/\", tags=[\"get_estimated_recommendation\"])\n",
    "def get_estimated_recommendation(userId: int, movieId: str):\n",
    "\n",
    "    model = load(\"Datasets/modelo_25.pkl\")[1]\n",
    "\n",
    "    rating = model.predict(userId, movieId).est\n",
    "\n",
    "    rating_rounded = round(rating, 1)\n",
    "    \n",
    "    return {\"En la escala de del 1 al 5. Calculamos que al usuario le podría gustar:\": rating_rounded}"
   ]
  }
 ],
 "metadata": {
  "kernelspec": {
   "display_name": "space_sur",
   "language": "python",
   "name": "python3"
  },
  "language_info": {
   "codemirror_mode": {
    "name": "ipython",
    "version": 3
   },
   "file_extension": ".py",
   "mimetype": "text/x-python",
   "name": "python",
   "nbconvert_exporter": "python",
   "pygments_lexer": "ipython3",
   "version": "3.9.13"
  },
  "orig_nbformat": 4,
  "vscode": {
   "interpreter": {
    "hash": "a7857bd383c9943c7f73b07426b7b0dff00ecabe98097a796b48e132ae43a871"
   }
  }
 },
 "nbformat": 4,
 "nbformat_minor": 2
}
