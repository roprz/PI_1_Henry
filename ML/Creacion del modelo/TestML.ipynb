{
  "nbformat": 4,
  "nbformat_minor": 0,
  "metadata": {
    "colab": {
      "provenance": []
    },
    "kernelspec": {
      "name": "python3",
      "display_name": "Python 3"
    },
    "language_info": {
      "name": "python"
    }
  },
  "cells": [
    {
      "cell_type": "code",
      "execution_count": null,
      "metadata": {
        "id": "6XZ-rrbOBSR6"
      },
      "outputs": [],
      "source": [
        "#Importamos la librería surprise para cargar el modelo\n",
        "!pip install surprise"
      ]
    },
    {
      "cell_type": "code",
      "source": [
        "from surprise.dump import load\n",
        "\n",
        "# Instanciamos el modelo\n",
        "model = load(\"/content/drive/MyDrive/Colab Notebooks/modelo_25.pkl\")[1]"
      ],
      "metadata": {
        "id": "Vb8NrzAPBsR5"
      },
      "execution_count": null,
      "outputs": []
    },
    {
      "cell_type": "code",
      "source": [
        "#Realizamos la prueba\n",
        "userId = 266225\n",
        "movieId = 'ns643'\n",
        "rating2 = model.predict(userId, movieId).est\n",
        "print(rating2)"
      ],
      "metadata": {
        "colab": {
          "base_uri": "https://localhost:8080/"
        },
        "id": "Gt7gXDbICFsJ",
        "outputId": "1599a391-4ad3-42df-cc33-ad396d6e79a6"
      },
      "execution_count": null,
      "outputs": [
        {
          "output_type": "stream",
          "name": "stdout",
          "text": [
            "2.6808010212723357\n"
          ]
        }
      ]
    }
  ]
}