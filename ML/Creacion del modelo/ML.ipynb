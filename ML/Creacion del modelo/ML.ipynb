{
  "nbformat": 4,
  "nbformat_minor": 0,
  "metadata": {
    "colab": {
      "provenance": []
    },
    "kernelspec": {
      "name": "python3",
      "display_name": "Python 3"
    },
    "language_info": {
      "name": "python"
    },
    "gpuClass": "standard"
  },
  "cells": [
    {
      "cell_type": "code",
      "source": [
        "#Importamos la librerías para la lectura de nuestro dataset en formato parquet\n",
        "import pyarrow as pa\n",
        "import pyarrow.parquet as pq"
      ],
      "metadata": {
        "id": "EIVMoC9Bi0Mb"
      },
      "execution_count": null,
      "outputs": []
    },
    {
      "cell_type": "code",
      "source": [
        "#Instanciamos en un dataframe\n",
        "df = pd.read_parquet('/content/drive/MyDrive/Colab Notebooks/data.parquet')"
      ],
      "metadata": {
        "id": "a_zKasFXVsz4"
      },
      "execution_count": null,
      "outputs": []
    },
    {
      "cell_type": "code",
      "source": [
        "#Revisamos el número de id´s únicos con los que contamos antes de tomar un fracción del dataset\n",
        "print(df['id'].nunique())"
      ],
      "metadata": {
        "colab": {
          "base_uri": "https://localhost:8080/"
        },
        "id": "LaGBjJg3fD__",
        "outputId": "2386779c-90cf-4b6d-fc27-e365709bfa7f"
      },
      "execution_count": null,
      "outputs": [
        {
          "output_type": "stream",
          "name": "stdout",
          "text": [
            "22998\n"
          ]
        }
      ]
    },
    {
      "cell_type": "code",
      "source": [
        "#Tomamos una muestra al 25 porciento (más adelante en el documento comprobe que este era el volumen de datos ideal)\n",
        "data = df.sample(frac=.25, random_state=42)"
      ],
      "metadata": {
        "id": "vnDp0N2Pd3N1"
      },
      "execution_count": null,
      "outputs": []
    },
    {
      "cell_type": "code",
      "source": [
        "#Compruebo que todos los id´s se encuentren en la muestra\n",
        "print(data['id'].nunique())"
      ],
      "metadata": {
        "colab": {
          "base_uri": "https://localhost:8080/"
        },
        "id": "qmQgoMxFfr4B",
        "outputId": "b25783bd-313b-4b30-8244-38a9d1a2b72f"
      },
      "execution_count": null,
      "outputs": [
        {
          "output_type": "stream",
          "name": "stdout",
          "text": [
            "22998\n"
          ]
        }
      ]
    },
    {
      "cell_type": "code",
      "source": [
        "#Instalacion de la librería surprise para realizar el modelo\n",
        "!pip install surprise"
      ],
      "metadata": {
        "id": "C3B7iu2evNrF"
      },
      "execution_count": null,
      "outputs": []
    },
    {
      "cell_type": "code",
      "source": [
        "#Mandamos a llamar las funciones necesarias de la librería\n",
        "from surprise import Reader, Dataset, accuracy, SVD\n",
        "from surprise.model_selection import cross_validate, train_test_split, GridSearchCV\n"
      ],
      "metadata": {
        "id": "7Q653I1YhIvh"
      },
      "execution_count": null,
      "outputs": []
    },
    {
      "cell_type": "code",
      "source": [
        "# Creamos el objeto Reader con las escalas del Score\n",
        "reader = Reader(rating_scale=(0.5, 5))\n",
        "\n",
        "# Carmos los datos en una estructura de Surprise\n",
        "dataa = Dataset.load_from_df(data[['userId', 'id', 'score']], reader)"
      ],
      "metadata": {
        "id": "YFUk7o2AkMhu"
      },
      "execution_count": null,
      "outputs": []
    },
    {
      "cell_type": "code",
      "source": [
        "#Realizamos la división de los datos de entrenamiento y de prueba\n",
        "trainset, testset = train_test_split(dataa, test_size=0.2)"
      ],
      "metadata": {
        "id": "JqTMJQJvhIsj"
      },
      "execution_count": null,
      "outputs": []
    },
    {
      "cell_type": "code",
      "source": [
        "#Definimos la grilla de hiperparámetros a explorar\n",
        "param_grid = {'n_factors': [50, 100, 150], 'n_epochs': [10, 20, 30], 'lr_all': [0.002, 0.005, 0.01], 'reg_all': [0.02, 0.04, 0.06]}\n"
      ],
      "metadata": {
        "id": "tvuN9hUAggln"
      },
      "execution_count": null,
      "outputs": []
    },
    {
      "cell_type": "code",
      "source": [
        "#Defino la métrica de evaluación\n",
        "scoring = {'RMSE': 'neg_root_mean_squared_error'}"
      ],
      "metadata": {
        "id": "QfAEcFlDggf-"
      },
      "execution_count": null,
      "outputs": []
    },
    {
      "cell_type": "code",
      "source": [
        "#Inicializamos el objeto GridSearchCV\n",
        "gs = GridSearchCV(SVD, param_grid, measures=['rmse'], cv=5, n_jobs=-1)"
      ],
      "metadata": {
        "id": "F8QKD4Yzggcm"
      },
      "execution_count": null,
      "outputs": []
    },
    {
      "cell_type": "code",
      "source": [
        "#Entrenamos el modelo\n",
        "gs.fit(dataa)"
      ],
      "metadata": {
        "id": "mCucVzZaggZF"
      },
      "execution_count": null,
      "outputs": []
    },
    {
      "cell_type": "code",
      "source": [
        "print(f\"Mejores hiperparámetros encontrados: {gs.best_params['rmse']}\")\n"
      ],
      "metadata": {
        "colab": {
          "base_uri": "https://localhost:8080/"
        },
        "id": "lgQ9sQcOggTJ",
        "outputId": "27f59285-88cf-412c-df90-6321311fbd25"
      },
      "execution_count": null,
      "outputs": [
        {
          "output_type": "stream",
          "name": "stdout",
          "text": [
            "Mejores hiperparámetros encontrados: {'n_factors': 50, 'n_epochs': 30, 'lr_all': 0.002, 'reg_all': 0.04}\n"
          ]
        }
      ]
    },
    {
      "cell_type": "code",
      "source": [
        "# Con base a los mejores hiperparametros que encontramos, creamos el objeto SVD\n",
        "model = SVD(n_factors=50, n_epochs=30, lr_all=0.002, reg_all=0.04)\n",
        "\n",
        "# Entrenar el modelo en el conjunto de entrenamiento\n",
        "model.fit(trainset)"
      ],
      "metadata": {
        "colab": {
          "base_uri": "https://localhost:8080/"
        },
        "id": "W2let9FHhIpq",
        "outputId": "82d5dcdd-3cd6-4528-fd1d-2f33b37296ec"
      },
      "execution_count": null,
      "outputs": [
        {
          "output_type": "execute_result",
          "data": {
            "text/plain": [
              "<surprise.prediction_algorithms.matrix_factorization.SVD at 0x7f9646d66640>"
            ]
          },
          "metadata": {},
          "execution_count": 46
        }
      ]
    },
    {
      "cell_type": "markdown",
      "source": [
        "El modelo se probo con el 100, 50, 25 y 10 porciento de los datos. Buscando la mejor accuracy. \n",
        "\n",
        "Nuestro mejor resultado fue con 25%, con una media de 0.9953 de RMSE"
      ],
      "metadata": {
        "id": "Ejy9Khh0mXbM"
      }
    },
    {
      "cell_type": "code",
      "source": [
        "# 100 % del dataset\n",
        "\n",
        "# Hacer predicciones en el conjunto de prueba\n",
        "predictions = model.test(testset)\n",
        "\n",
        "# Calcular la precisión del modelo\n",
        "accuracy.rmse(predictions)"
      ],
      "metadata": {
        "colab": {
          "base_uri": "https://localhost:8080/"
        },
        "id": "JHoLVlXE4RA6",
        "outputId": "922ec82e-37b3-4f9c-95d4-071e0363c43f"
      },
      "execution_count": null,
      "outputs": [
        {
          "output_type": "stream",
          "name": "stdout",
          "text": [
            "RMSE: 1.0024\n"
          ]
        },
        {
          "output_type": "execute_result",
          "data": {
            "text/plain": [
              "1.0023995069981524"
            ]
          },
          "metadata": {},
          "execution_count": 33
        }
      ]
    },
    {
      "cell_type": "code",
      "source": [
        "# 50 % del dataset\n",
        "\n",
        "# Hacer predicciones en el conjunto de prueba\n",
        "predictions = model.test(testset)\n",
        "\n",
        "# Calcular la precisión del modelo\n",
        "accuracy.rmse(predictions)"
      ],
      "metadata": {
        "colab": {
          "base_uri": "https://localhost:8080/"
        },
        "id": "X0VKpESltnfk",
        "outputId": "9827d9e1-4f9d-4938-cd85-b1bc6a248ffc"
      },
      "execution_count": null,
      "outputs": [
        {
          "output_type": "stream",
          "name": "stdout",
          "text": [
            "RMSE: 0.9964\n"
          ]
        },
        {
          "output_type": "execute_result",
          "data": {
            "text/plain": [
              "0.996404607578528"
            ]
          },
          "metadata": {},
          "execution_count": 27
        }
      ]
    },
    {
      "cell_type": "code",
      "source": [
        "# 25 % del dataset prueba final\n",
        "\n",
        "# Hacer predicciones en el conjunto de prueba\n",
        "predictions = model.test(testset)\n",
        "\n",
        "# Calcular la precisión del modelo\n",
        "accuracy.rmse(predictions)"
      ],
      "metadata": {
        "colab": {
          "base_uri": "https://localhost:8080/"
        },
        "id": "BnkgOAWIdu1S",
        "outputId": "89ab6fc4-c119-42e6-8da9-538e314788c9"
      },
      "execution_count": null,
      "outputs": [
        {
          "output_type": "stream",
          "name": "stdout",
          "text": [
            "RMSE: 0.9829\n"
          ]
        },
        {
          "output_type": "execute_result",
          "data": {
            "text/plain": [
              "0.982890444199184"
            ]
          },
          "metadata": {},
          "execution_count": 47
        }
      ]
    },
    {
      "cell_type": "code",
      "source": [
        "# 25 % del dataset prueba 2\n",
        "\n",
        "results = cross_validate(model, dataa, measures=['RMSE'], cv=5, verbose=True)\n",
        "print(results['test_rmse'])"
      ],
      "metadata": {
        "colab": {
          "base_uri": "https://localhost:8080/"
        },
        "id": "TOKc4ccV8v8M",
        "outputId": "b47b1cd0-b730-43b7-b464-ddb9e95a39ed"
      },
      "execution_count": null,
      "outputs": [
        {
          "output_type": "stream",
          "name": "stdout",
          "text": [
            "Evaluating RMSE of algorithm SVD on 5 split(s).\n",
            "\n",
            "                  Fold 1  Fold 2  Fold 3  Fold 4  Fold 5  Mean    Std     \n",
            "RMSE (testset)    0.9950  0.9947  0.9955  0.9946  0.9966  0.9953  0.0007  \n",
            "Fit time          62.93   65.35   64.23   65.09   65.51   64.62   0.95    \n",
            "Test time         11.62   17.59   12.03   11.64   11.75   12.93   2.33    \n",
            "[0.99496964 0.99474768 0.99553255 0.9946437  0.99655732]\n"
          ]
        }
      ]
    },
    {
      "cell_type": "code",
      "source": [
        "# 10 % del dataset\n",
        "\n",
        "# Hacer predicciones en el conjunto de prueba\n",
        "predictions = model.test(testset)\n",
        "\n",
        "# Calcular la precisión del modelo\n",
        "accuracy.rmse(predictions)"
      ],
      "metadata": {
        "colab": {
          "base_uri": "https://localhost:8080/"
        },
        "id": "KlEK0ACPhInu",
        "outputId": "7c96bf6c-7e24-4f55-bb26-b58bac3d1094"
      },
      "execution_count": null,
      "outputs": [
        {
          "output_type": "stream",
          "name": "stdout",
          "text": [
            "RMSE: 1.0053\n"
          ]
        },
        {
          "output_type": "execute_result",
          "data": {
            "text/plain": [
              "1.0053403625603339"
            ]
          },
          "metadata": {},
          "execution_count": 8
        }
      ]
    },
    {
      "cell_type": "code",
      "source": [
        "#Probamos que el modelo funcione de manera correcta\n",
        "userId = 266225\n",
        "movieId = 'ns643'\n",
        "rating = model.predict(userId, movieId).est"
      ],
      "metadata": {
        "id": "pNA9A8wyzZCZ"
      },
      "execution_count": null,
      "outputs": []
    },
    {
      "cell_type": "code",
      "source": [
        "print(rating)"
      ],
      "metadata": {
        "colab": {
          "base_uri": "https://localhost:8080/"
        },
        "id": "TNY1iLVa0HQ7",
        "outputId": "9740d020-b6d1-4c8e-b8bf-08b867bd1ca5"
      },
      "execution_count": null,
      "outputs": [
        {
          "output_type": "stream",
          "name": "stdout",
          "text": [
            "2.9054038105465723\n"
          ]
        }
      ]
    },
    {
      "cell_type": "code",
      "source": [
        "#Exportamos nuestro modelo \n",
        "from surprise.dump import dump\n",
        "\n",
        "dump(\"modelo_25.pkl\", algo=model)"
      ],
      "metadata": {
        "id": "lQJgZCdCAKjW"
      },
      "execution_count": 51,
      "outputs": []
    }
  ]
}